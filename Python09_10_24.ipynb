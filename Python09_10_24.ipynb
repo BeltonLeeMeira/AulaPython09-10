{
 "cells": [
  {
   "cell_type": "code",
   "execution_count": 3,
   "metadata": {},
   "outputs": [],
   "source": [
    "# Estrutura de repetição\n",
    "\n",
    "lista = []\n",
    "\n",
    "for i in range(5):\n",
    "    num = int(input(\"Digite um número\"))\n",
    "    lista.append(num)"
   ]
  },
  {
   "cell_type": "code",
   "execution_count": null,
   "metadata": {},
   "outputs": [],
   "source": [
    "lista_numero = [1, 2, 3]\n",
    "lista_letra = [\"a\", \"b\", \"c\"]\n",
    "\n",
    "for i in lista_numero:\n",
    "    for k in lista_letra:\n",
    "        print(i, k)"
   ]
  }
 ],
 "metadata": {
  "kernelspec": {
   "display_name": "Python 3",
   "language": "python",
   "name": "python3"
  },
  "language_info": {
   "codemirror_mode": {
    "name": "ipython",
    "version": 3
   },
   "file_extension": ".py",
   "mimetype": "text/x-python",
   "name": "python",
   "nbconvert_exporter": "python",
   "pygments_lexer": "ipython3",
   "version": "3.12.3"
  }
 },
 "nbformat": 4,
 "nbformat_minor": 2
}
